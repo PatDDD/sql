{
 "cells": [
  {
   "cell_type": "code",
   "execution_count": 2,
   "id": "41199cde-32c4-4a82-8a38-23a010bfe32c",
   "metadata": {
    "tags": []
   },
   "outputs": [],
   "source": [
    "from pandasql import sqldf\n",
    "pysqldf = lambda q: sqldf(q, globals())"
   ]
  },
  {
   "cell_type": "code",
   "execution_count": null,
   "id": "d1e3af44-ee06-435c-9ab6-05cf0bfd2018",
   "metadata": {},
   "outputs": [],
   "source": [
    "# q = \"\"\"\n",
    "# SELECT strftime('%Y', date) AS year, SUM(beef) AS beef_total\n",
    "# FROM meat\n",
    "# GROUP BY year;\n",
    "# \"\"\"\n",
    "# print(pysqldf(q).head())"
   ]
  },
  {
   "cell_type": "code",
   "execution_count": 4,
   "id": "e5d5a63b-b42b-4810-9fa4-5de4bcd8ff67",
   "metadata": {
    "tags": []
   },
   "outputs": [],
   "source": [
    "import pandas as pd"
   ]
  },
  {
   "cell_type": "markdown",
   "id": "b0ae601d-d977-45d6-9cb4-4974ba0d5120",
   "metadata": {},
   "source": [
    "### sample data for the practise (this is a fake dataset)\n",
    "\n",
    "- dt: transaction date, could be string or datetime, flexible with hive sql\n",
    "- oid: string, order id, primary key\n",
    "- uid: customer id\n",
    "- num_items: number of items purchased by customers per order\n",
    "- tt_gmv: total price of each order (not per item!)"
   ]
  },
  {
   "cell_type": "code",
   "execution_count": 15,
   "id": "ae6fbb29-d4e8-4f12-a4f5-dd4240b341e5",
   "metadata": {},
   "outputs": [],
   "source": [
    "orders = pd.read_csv('sample_transaction.csv',dtype=str).head(19)\n"
   ]
  },
  {
   "cell_type": "code",
   "execution_count": 22,
   "id": "cc6c2f26-d23f-49db-962a-c6b3b1dfc03f",
   "metadata": {},
   "outputs": [],
   "source": [
    "orders['tt_gmv']=orders['tt_gmv'].astype(float)\n",
    "orders['num_items']=orders['num_items'].astype(int)"
   ]
  },
  {
   "cell_type": "code",
   "execution_count": 23,
   "id": "a7f56ea8-772c-4240-bab9-1db6216d6fcb",
   "metadata": {},
   "outputs": [
    {
     "name": "stdout",
     "output_type": "stream",
     "text": [
      "           dt oid   uid  num_items  tt_gmv\n",
      "0  2023-01-01   1  1000          1    20.0\n",
      "1  2023-01-02   2  1001          2    56.0\n",
      "2  2023-02-05   3  1002          3    34.0\n",
      "3  2023-06-10   4  1003          4   100.0\n",
      "4  2023-07-01   5  1000          2    23.0\n"
     ]
    }
   ],
   "source": [
    "q = \"\"\"\n",
    "SELECT *\n",
    "FROM orders\n",
    "\"\"\"\n",
    "print(pysqldf(q).head()) "
   ]
  },
  {
   "cell_type": "code",
   "execution_count": null,
   "id": "89ab78c6-6402-415e-b877-3b9dcc6bbb9a",
   "metadata": {},
   "outputs": [],
   "source": []
  },
  {
   "cell_type": "markdown",
   "id": "c402aa03-38ed-4d6b-949d-3ebc39176124",
   "metadata": {},
   "source": [
    "### rank function\n",
    "rank function is one of the most frequently used window functions and row_number is the most popular one\n",
    "- row_number() over(partition by xxx order by xxx)\n",
    "    - 1,2,3,4\n",
    "- rank() over(partition by xxx order by xxx)\n",
    "    - 1,2,2,4\n",
    "- dense_rank() over(partition by xxx order by xxx)\n",
    "    - 1,2,2,3"
   ]
  },
  {
   "cell_type": "code",
   "execution_count": null,
   "id": "838506ed-5a5a-4231-9646-8d2a706e578a",
   "metadata": {},
   "outputs": [],
   "source": []
  },
  {
   "cell_type": "markdown",
   "id": "9f9f865a-797c-4bd6-bb4c-6a0410bd4e2a",
   "metadata": {},
   "source": [
    "Q1: for every customer (uid), get the most expensive order they have purchase, need return dt, oid, num_items as well\n",
    "- highest order: max ttm"
   ]
  },
  {
   "cell_type": "code",
   "execution_count": 28,
   "id": "67e3880c-a6ae-401b-b3c2-ff30c6240afb",
   "metadata": {},
   "outputs": [
    {
     "name": "stdout",
     "output_type": "stream",
     "text": [
      "           dt oid   uid  num_items  tt_gmv  rank\n",
      "0  2023-07-15   6  1001          3   100.0     1\n",
      "1  2023-06-10   4  1003          4   100.0     1\n",
      "2  2023-11-01  16  1000          1    78.0     1\n",
      "3  2023-07-16   7  1002          1    55.0     1\n"
     ]
    }
   ],
   "source": [
    "q = \"\"\"\n",
    "select *\n",
    "from (SELECT *, row_number() over(partition by uid order by tt_gmv desc) as rank\n",
    "FROM orders)t\n",
    "where rank = 1\n",
    "order by tt_gmv desc\n",
    "\"\"\"\n",
    "print(pysqldf(q)) "
   ]
  },
  {
   "cell_type": "code",
   "execution_count": null,
   "id": "8ae644b1-d091-4f5f-a402-51a53c7f8574",
   "metadata": {},
   "outputs": [],
   "source": []
  },
  {
   "cell_type": "markdown",
   "id": "1d843551-0bfd-4716-b4ff-78c090515091",
   "metadata": {},
   "source": [
    "### percentile function\n",
    "percentile function is widely used to select top performance targets (countries, supermarkets, customers etc)\n",
    "- ntile()\n",
    "- percent_rank()"
   ]
  },
  {
   "cell_type": "markdown",
   "id": "1055833c-5fa5-4ddb-a47e-f9f9b9f3fe3a",
   "metadata": {},
   "source": [
    "Q: return top 25% orders by tt_gmv "
   ]
  },
  {
   "cell_type": "code",
   "execution_count": 31,
   "id": "7e839aec-f244-48d4-8c65-bb2300d1e48c",
   "metadata": {},
   "outputs": [
    {
     "name": "stdout",
     "output_type": "stream",
     "text": [
      "            dt oid   uid  num_items  tt_gmv  percentile\n",
      "0   2023-06-10   4  1003          4   100.0           1\n",
      "1   2023-07-15   6  1001          3   100.0           1\n",
      "2   2023-12-18  19  1003          5    99.0           1\n",
      "3   2023-11-01  16  1000          1    78.0           1\n",
      "4   2023-09-28  13  1001          5    66.0           1\n",
      "5   2023-01-02   2  1001          2    56.0           2\n",
      "6   2023-07-16   7  1002          1    55.0           2\n",
      "7   2023-09-10  11  1002          4    45.0           2\n",
      "8   2023-10-16  15  1002          3    45.0           2\n",
      "9   2023-12-05  18  1000          2    45.0           2\n",
      "10  2023-02-05   3  1002          3    34.0           3\n",
      "11  2023-07-01   5  1000          2    23.0           3\n",
      "12  2023-09-01  10  1001          3    23.0           3\n",
      "13  2023-10-01  14  1002          2    23.0           3\n",
      "14  2023-11-05  17  1000          1    23.0           3\n",
      "15  2023-01-01   1  1000          1    20.0           4\n",
      "16  2023-08-15   9  1000          2    18.0           4\n",
      "17  2023-09-14  12  1000          2    12.0           4\n",
      "18  2023-08-01   8  1003          1     6.0           4\n"
     ]
    }
   ],
   "source": [
    "q = \"\"\"\n",
    "select *\n",
    "from (SELECT *, ntile(4) over(order by tt_gmv desc) as percentile\n",
    "FROM orders)t\n",
    "\n",
    "\n",
    "\"\"\"\n",
    "print(pysqldf(q))"
   ]
  },
  {
   "cell_type": "code",
   "execution_count": 34,
   "id": "ce54807b-0864-4b7b-8934-5d154a441e09",
   "metadata": {},
   "outputs": [
    {
     "name": "stdout",
     "output_type": "stream",
     "text": [
      "           dt oid   uid  num_items  tt_gmv  percentile\n",
      "0  2023-06-10   4  1003          4   100.0           1\n",
      "1  2023-07-15   6  1001          3   100.0           1\n",
      "2  2023-12-18  19  1003          5    99.0           1\n",
      "3  2023-11-01  16  1000          1    78.0           1\n",
      "4  2023-09-28  13  1001          5    66.0           1\n"
     ]
    }
   ],
   "source": [
    "q = \"\"\"\n",
    "select *\n",
    "from (SELECT *, ntile(4) over(order by tt_gmv desc) as percentile\n",
    "FROM orders)t\n",
    "where t.percentile = 1\n",
    "\n",
    "\n",
    "\"\"\"\n",
    "print(pysqldf(q))"
   ]
  },
  {
   "cell_type": "code",
   "execution_count": 33,
   "id": "8021248c-9c7f-40f0-b432-6dbfda21a880",
   "metadata": {},
   "outputs": [
    {
     "name": "stdout",
     "output_type": "stream",
     "text": [
      "            dt oid   uid  num_items  tt_gmv  percentile\n",
      "0   2023-06-10   4  1003          4   100.0    0.000000\n",
      "1   2023-07-15   6  1001          3   100.0    0.000000\n",
      "2   2023-12-18  19  1003          5    99.0    0.111111\n",
      "3   2023-11-01  16  1000          1    78.0    0.166667\n",
      "4   2023-09-28  13  1001          5    66.0    0.222222\n",
      "5   2023-01-02   2  1001          2    56.0    0.277778\n",
      "6   2023-07-16   7  1002          1    55.0    0.333333\n",
      "7   2023-09-10  11  1002          4    45.0    0.388889\n",
      "8   2023-10-16  15  1002          3    45.0    0.388889\n",
      "9   2023-12-05  18  1000          2    45.0    0.388889\n",
      "10  2023-02-05   3  1002          3    34.0    0.555556\n",
      "11  2023-07-01   5  1000          2    23.0    0.611111\n",
      "12  2023-09-01  10  1001          3    23.0    0.611111\n",
      "13  2023-10-01  14  1002          2    23.0    0.611111\n",
      "14  2023-11-05  17  1000          1    23.0    0.611111\n",
      "15  2023-01-01   1  1000          1    20.0    0.833333\n",
      "16  2023-08-15   9  1000          2    18.0    0.888889\n",
      "17  2023-09-14  12  1000          2    12.0    0.944444\n",
      "18  2023-08-01   8  1003          1     6.0    1.000000\n"
     ]
    }
   ],
   "source": [
    "q = \"\"\"\n",
    "select *\n",
    "from (SELECT *, percent_rank() over(order by tt_gmv desc) as percentile\n",
    "FROM orders)t\n",
    "\n",
    "\n",
    "\"\"\"\n",
    "print(pysqldf(q))"
   ]
  },
  {
   "cell_type": "code",
   "execution_count": 35,
   "id": "b41ecc01-4584-4f6b-a2cd-ceb324ce6bc1",
   "metadata": {},
   "outputs": [
    {
     "name": "stdout",
     "output_type": "stream",
     "text": [
      "           dt oid   uid  num_items  tt_gmv  percentile\n",
      "0  2023-06-10   4  1003          4   100.0    0.000000\n",
      "1  2023-07-15   6  1001          3   100.0    0.000000\n",
      "2  2023-12-18  19  1003          5    99.0    0.111111\n",
      "3  2023-11-01  16  1000          1    78.0    0.166667\n",
      "4  2023-09-28  13  1001          5    66.0    0.222222\n"
     ]
    }
   ],
   "source": [
    "q = \"\"\"\n",
    "select *\n",
    "from (SELECT *, percent_rank() over(order by tt_gmv desc) as percentile\n",
    "FROM orders)t\n",
    "where t.percentile <=0.25\n",
    "\n",
    "\"\"\"\n",
    "print(pysqldf(q))"
   ]
  },
  {
   "cell_type": "code",
   "execution_count": null,
   "id": "a6a6c1dc-24f6-4c0f-b319-13016aa8e252",
   "metadata": {},
   "outputs": [],
   "source": []
  },
  {
   "cell_type": "code",
   "execution_count": null,
   "id": "2f47aba1-7bc1-45fa-88f3-d41f5d6c1a60",
   "metadata": {},
   "outputs": [],
   "source": []
  },
  {
   "cell_type": "markdown",
   "id": "c73b1c75-917b-4032-ae39-f2c7852531c1",
   "metadata": {},
   "source": [
    "## lead lag function\n",
    "\n",
    "- lead()\n",
    "- lag()"
   ]
  },
  {
   "cell_type": "markdown",
   "id": "54dd5632-b754-40f7-84ad-f30e60ae13cc",
   "metadata": {},
   "source": [
    "Q2: use another data set for login detection, the goal is to get the user's most recent normal login frequency\n",
    "- defition of nornal: consecutive is_abnormal = 0"
   ]
  },
  {
   "cell_type": "code",
   "execution_count": 5,
   "id": "dd5cb8e3-38d9-405e-8c8e-c0456d8b8b14",
   "metadata": {
    "tags": []
   },
   "outputs": [
    {
     "data": {
      "text/html": [
       "<div>\n",
       "<style scoped>\n",
       "    .dataframe tbody tr th:only-of-type {\n",
       "        vertical-align: middle;\n",
       "    }\n",
       "\n",
       "    .dataframe tbody tr th {\n",
       "        vertical-align: top;\n",
       "    }\n",
       "\n",
       "    .dataframe thead th {\n",
       "        text-align: right;\n",
       "    }\n",
       "</style>\n",
       "<table border=\"1\" class=\"dataframe\">\n",
       "  <thead>\n",
       "    <tr style=\"text-align: right;\">\n",
       "      <th></th>\n",
       "      <th>timestamp</th>\n",
       "      <th>uid</th>\n",
       "      <th>is_abnormal</th>\n",
       "    </tr>\n",
       "  </thead>\n",
       "  <tbody>\n",
       "    <tr>\n",
       "      <th>0</th>\n",
       "      <td>2023-11-01</td>\n",
       "      <td>123</td>\n",
       "      <td>0</td>\n",
       "    </tr>\n",
       "    <tr>\n",
       "      <th>1</th>\n",
       "      <td>2023-11-02</td>\n",
       "      <td>123</td>\n",
       "      <td>0</td>\n",
       "    </tr>\n",
       "    <tr>\n",
       "      <th>2</th>\n",
       "      <td>2023-11-03</td>\n",
       "      <td>123</td>\n",
       "      <td>1</td>\n",
       "    </tr>\n",
       "    <tr>\n",
       "      <th>3</th>\n",
       "      <td>2023-11-04</td>\n",
       "      <td>123</td>\n",
       "      <td>1</td>\n",
       "    </tr>\n",
       "    <tr>\n",
       "      <th>4</th>\n",
       "      <td>2023-11-05</td>\n",
       "      <td>123</td>\n",
       "      <td>1</td>\n",
       "    </tr>\n",
       "    <tr>\n",
       "      <th>5</th>\n",
       "      <td>2023-11-06</td>\n",
       "      <td>123</td>\n",
       "      <td>1</td>\n",
       "    </tr>\n",
       "    <tr>\n",
       "      <th>6</th>\n",
       "      <td>2023-11-07</td>\n",
       "      <td>123</td>\n",
       "      <td>1</td>\n",
       "    </tr>\n",
       "    <tr>\n",
       "      <th>7</th>\n",
       "      <td>2023-11-08</td>\n",
       "      <td>123</td>\n",
       "      <td>0</td>\n",
       "    </tr>\n",
       "    <tr>\n",
       "      <th>8</th>\n",
       "      <td>2023-11-09</td>\n",
       "      <td>123</td>\n",
       "      <td>1</td>\n",
       "    </tr>\n",
       "    <tr>\n",
       "      <th>9</th>\n",
       "      <td>2023-11-10</td>\n",
       "      <td>123</td>\n",
       "      <td>0</td>\n",
       "    </tr>\n",
       "    <tr>\n",
       "      <th>10</th>\n",
       "      <td>2023-11-11</td>\n",
       "      <td>123</td>\n",
       "      <td>0</td>\n",
       "    </tr>\n",
       "  </tbody>\n",
       "</table>\n",
       "</div>"
      ],
      "text/plain": [
       "     timestamp  uid is_abnormal\n",
       "0   2023-11-01  123           0\n",
       "1   2023-11-02  123           0\n",
       "2   2023-11-03  123           1\n",
       "3   2023-11-04  123           1\n",
       "4   2023-11-05  123           1\n",
       "5   2023-11-06  123           1\n",
       "6   2023-11-07  123           1\n",
       "7   2023-11-08  123           0\n",
       "8   2023-11-09  123           1\n",
       "9   2023-11-10  123           0\n",
       "10  2023-11-11  123           0"
      ]
     },
     "execution_count": 5,
     "metadata": {},
     "output_type": "execute_result"
    }
   ],
   "source": [
    "login = pd.read_csv('login_detection.csv',dtype=str)\n",
    "login"
   ]
  },
  {
   "cell_type": "code",
   "execution_count": 23,
   "id": "46cc8d18-9586-4150-90c6-878cce05da35",
   "metadata": {
    "tags": []
   },
   "outputs": [
    {
     "name": "stdout",
     "output_type": "stream",
     "text": [
      "    timestamp  uid is_abnormal lead_normal  rank\n",
      "0  2023-11-11  123           0           0     1\n"
     ]
    }
   ],
   "source": [
    "q = \"\"\"\n",
    "select timestamp,uid,is_abnormal,lead_normal,rank\n",
    "from (SELECT *, \n",
    "lead(is_abnormal,1)over(partition by uid order by timestamp desc) as lead_normal,\n",
    "row_number()over(partition by uid order by timestamp desc) as rank\n",
    "FROM login) as a\n",
    "where rank = 1\n",
    "\n",
    "\"\"\"\n",
    "print(pysqldf(q)) "
   ]
  },
  {
   "cell_type": "code",
   "execution_count": null,
   "id": "5b60eb6e-e64f-4283-96e1-9d72dab4ae3c",
   "metadata": {},
   "outputs": [],
   "source": []
  },
  {
   "cell_type": "code",
   "execution_count": null,
   "id": "406ee86f-817c-465d-af9e-4e2578fc97af",
   "metadata": {},
   "outputs": [],
   "source": []
  },
  {
   "cell_type": "markdown",
   "id": "f6e6a45d-2824-43e8-9d1a-15454e375486",
   "metadata": {},
   "source": [
    "## sum over"
   ]
  },
  {
   "cell_type": "code",
   "execution_count": null,
   "id": "c69c94d2-147b-4635-bb0d-85b11dd08ae5",
   "metadata": {},
   "outputs": [],
   "source": []
  }
 ],
 "metadata": {
  "kernelspec": {
   "display_name": "Python 3 (ipykernel)",
   "language": "python",
   "name": "python3"
  },
  "language_info": {
   "codemirror_mode": {
    "name": "ipython",
    "version": 3
   },
   "file_extension": ".py",
   "mimetype": "text/x-python",
   "name": "python",
   "nbconvert_exporter": "python",
   "pygments_lexer": "ipython3",
   "version": "3.11.5"
  }
 },
 "nbformat": 4,
 "nbformat_minor": 5
}
